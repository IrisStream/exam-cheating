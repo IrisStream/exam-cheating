{
 "cells": [
  {
   "cell_type": "markdown",
   "metadata": {},
   "source": [
    "# Phân tích gian lận thi cử 2018 (tỉnh Hà Giang) \n",
    "---\n",
    "\n",
    "## Các bước thực hiện:\n",
    "1. Thống kê điểm thi các môn thi và các khối thi\n",
    "2. Thống kê số thí sinh có điểm các khối > 27 trong tỉnh và cả nước"
   ]
  },
  {
   "cell_type": "markdown",
   "metadata": {},
   "source": [
    "___Thư viện:___"
   ]
  },
  {
   "cell_type": "code",
   "execution_count": 12,
   "metadata": {},
   "outputs": [],
   "source": [
    "import pandas as pd\n",
    "import numpy as np\n",
    "import seaborn as sb\n",
    "import matplotlib.pyplot as plt\n",
    "import json"
   ]
  },
  {
   "cell_type": "markdown",
   "metadata": {},
   "source": [
    "___Load dữ liệu:___"
   ]
  },
  {
   "cell_type": "code",
   "execution_count": 13,
   "metadata": {},
   "outputs": [],
   "source": [
    "with open('Dataset.json' encoding=\"utf8\") as json_file:\n",
    "    provinces = json.load(json_file)\n",
    "data = {}\n",
    "for province in provinces:\n",
    "    data[province['province']] = pd.read_csv(province['file'])"
   ]
  },
  {
   "cell_type": "markdown",
   "metadata": {},
   "source": [
    "## Phân bố điểm thi các môn thi và các khối thi"
   ]
  },
  {
   "cell_type": "code",
   "execution_count": 14,
   "metadata": {},
   "outputs": [],
   "source": [
    "# tạo trục x\n",
    "def makeXAxis(start, step, end):\n",
    "  x_axis = []\n",
    "  pre = start\n",
    "  while True:\n",
    "    next = pre + step\n",
    "    if next > end:\n",
    "      next = num\n",
    "    x_axis.append((pre, next))\n",
    "    pre += step\n",
    "    if pre >= end:\n",
    "      break\n",
    "  return x_axis\n",
    "\n",
    "# tạo dữ liệu trục y\n",
    "def makeYAxis(s, x_axis):\n",
    "  y_axis_values = {}\n",
    "  for i in x_axis:\n",
    "    y_axis_values[i] = []\n",
    "\n",
    "  for i in s:\n",
    "    for j in x_axis:\n",
    "      if j[1] == x_axis[-1][1]:\n",
    "        if i >= j[0] and i <= j[1]:\n",
    "          y_axis_values[j].append(i)\n",
    "      elif i >= j[0] and i < j[1]:\n",
    "        y_axis_values[j].append(i)\n",
    "\n",
    "  y_axis = []\n",
    "  for i in x_axis:\n",
    "    y_axis.append(len(y_axis_values[i]))\n",
    "  return y_axis\n",
    "\n",
    "# vẽ biểu đồ cột khi có x, y\n",
    "def drawBarChart(x_axis, y_axis, title, x_label, y_label, size):\n",
    "  plt.figure(figsize=size)\n",
    "  plt.xticks(rotation = 90)\n",
    "  plt.bar([str(i) for i in x_axis], y_axis, color ='blue')\n",
    "  plt.xlabel(x_label)\n",
    "  plt.ylabel(y_label)\n",
    "  plt.title(title)\n",
    "  plt.show()"
   ]
  },
  {
   "cell_type": "markdown",
   "metadata": {},
   "source": [
    "### Toán"
   ]
  },
  {
   "cell_type": "code",
   "execution_count": null,
   "metadata": {},
   "outputs": [],
   "source": []
  },
  {
   "cell_type": "markdown",
   "metadata": {},
   "source": [
    "__Nhận xét:__"
   ]
  },
  {
   "cell_type": "markdown",
   "metadata": {},
   "source": [
    "### Ngữ văn"
   ]
  },
  {
   "cell_type": "code",
   "execution_count": null,
   "metadata": {},
   "outputs": [],
   "source": []
  },
  {
   "cell_type": "markdown",
   "metadata": {},
   "source": [
    "__Nhận xét:__"
   ]
  },
  {
   "cell_type": "markdown",
   "metadata": {},
   "source": [
    "### Ngoại ngữ"
   ]
  },
  {
   "cell_type": "code",
   "execution_count": null,
   "metadata": {},
   "outputs": [],
   "source": []
  },
  {
   "cell_type": "markdown",
   "metadata": {},
   "source": [
    "### Vật lý"
   ]
  },
  {
   "cell_type": "code",
   "execution_count": null,
   "metadata": {},
   "outputs": [],
   "source": []
  },
  {
   "cell_type": "markdown",
   "metadata": {},
   "source": [
    "### Hóa học"
   ]
  },
  {
   "cell_type": "code",
   "execution_count": 15,
   "metadata": {},
   "outputs": [
    {
     "data": {
      "image/png": "[encoded data removed]",
      "text/plain": [
       "<Figure size 720x360 with 1 Axes>"
      ]
     },
     "metadata": {
      "needs_background": "light"
     },
     "output_type": "display_data"
    }
   ],
   "source": [
    "hh = data['Hà Giang']['HÓA']\n",
    "x_axis_hh = makeXAxis(0,1,10)\n",
    "y_axis_hh = makeYAxis(hh, x_axis_hh)\n",
    "drawBarChart(x_axis_hh, y_axis_hh, 'Phổ điểm hoá học', 'Điểm', 'Số lượng', (10,5))"
   ]
  },
  {
   "cell_type": "markdown",
   "metadata": {},
   "source": [
    "__Nhận xét:__ Hình dáng của phổ điểm không tuân theo phân phối chuẩn. Trong đó, số điểm từ 9 đến 10 tăng một cách bất thường và nhiều hơn cả số điểm từ 7 đến 9. Rõ ràng đây là một dấu hiệu đáng được chú ý trong quá trình rà soát gian lận thi cử."
   ]
  },
  {
   "cell_type": "markdown",
   "metadata": {},
   "source": [
    "### Sinh học"
   ]
  },
  {
   "cell_type": "code",
   "execution_count": 19,
   "metadata": {
    "scrolled": true
   },
   "outputs": [
    {
     "data": {
      "image/png": "[encoded data removed]",
      "text/plain": [
       "<Figure size 720x360 with 1 Axes>"
      ]
     },
     "metadata": {
      "needs_background": "light"
     },
     "output_type": "display_data"
    }
   ],
   "source": [
    "sh = data['Hà Giang']['SINH']\n",
    "x_axis_sh = makeXAxis(0,1,10)\n",
    "y_axis_sh = makeYAxis(sh,x_axis_sh)\n",
    "drawBarChart(x_axis_sh, y_axis_sh, 'Phổ điểm sinh học', 'Điểm', 'Số lượng', (10,5))"
   ]
  },
  {
   "cell_type": "markdown",
   "metadata": {},
   "source": [
    "__Nhận xét:__ Thông qua xem xét hình dáng phân phối điểm, người phân tích không phát hiện bất thường trong điểm số môn Sinh học của tỉnh Hà Giang."
   ]
  },
  {
   "cell_type": "markdown",
   "metadata": {},
   "source": [
    "### Lịch sử"
   ]
  },
  {
   "cell_type": "code",
   "execution_count": null,
   "metadata": {},
   "outputs": [],
   "source": []
  },
  {
   "cell_type": "markdown",
   "metadata": {},
   "source": [
    "### Địa lý"
   ]
  },
  {
   "cell_type": "code",
   "execution_count": null,
   "metadata": {},
   "outputs": [],
   "source": []
  },
  {
   "cell_type": "markdown",
   "metadata": {},
   "source": [
    "### Giáo dục công dân"
   ]
  },
  {
   "cell_type": "code",
   "execution_count": 20,
   "metadata": {
    "scrolled": false
   },
   "outputs": [
    {
     "data": {
      "image/png": "[encoded data removed]",
      "text/plain": [
       "<Figure size 720x360 with 1 Axes>"
      ]
     },
     "metadata": {
      "needs_background": "light"
     },
     "output_type": "display_data"
    }
   ],
   "source": [
    "gd = data['Hà Giang']['GDCD']\n",
    "x_axis_gd = makeXAxis(0,1,10)\n",
    "y_axis_gd = makeYAxis(gd, x_axis_gd)\n",
    "drawBarChart(x_axis_gd, y_axis_gd, 'Phổ điểm GDCD', 'Điểm', 'Số lượng', (10,5))"
   ]
  },
  {
   "cell_type": "markdown",
   "metadata": {},
   "source": [
    "__Nhận xét:__ Thông qua xem xét hình dáng phân phối điểm, người phân tích không phát hiện bất thường trong điểm số môn Giáo dục công dân của tỉnh Hà Giang."
   ]
  },
  {
   "cell_type": "markdown",
   "metadata": {},
   "source": [
    "## Demo thống kê trên 27 điểm"
   ]
  },
  {
   "cell_type": "code",
   "execution_count": 18,
   "metadata": {
    "scrolled": true
   },
   "outputs": [
    {
     "ename": "NameError",
     "evalue": "name 'draw' is not defined",
     "output_type": "error",
     "traceback": [
      "\u001b[1;31m---------------------------------------------------------------------------\u001b[0m",
      "\u001b[1;31mNameError\u001b[0m                                 Traceback (most recent call last)",
      "\u001b[1;32m<ipython-input-18-9a63aea090e8>\u001b[0m in \u001b[0;36m<module>\u001b[1;34m\u001b[0m\n\u001b[0;32m      6\u001b[0m \u001b[0my_axis_gradeA1\u001b[0m \u001b[1;33m=\u001b[0m \u001b[0mmakeYAxis\u001b[0m\u001b[1;33m(\u001b[0m\u001b[0mdata\u001b[0m\u001b[1;33m[\u001b[0m\u001b[1;34m'Hà Giang'\u001b[0m\u001b[1;33m]\u001b[0m\u001b[1;33m[\u001b[0m\u001b[1;34m'KHỐI A1'\u001b[0m\u001b[1;33m]\u001b[0m\u001b[1;33m,\u001b[0m \u001b[0mx_axis\u001b[0m\u001b[1;33m)\u001b[0m\u001b[1;33m\u001b[0m\u001b[1;33m\u001b[0m\u001b[0m\n\u001b[0;32m      7\u001b[0m \u001b[1;33m\u001b[0m\u001b[0m\n\u001b[1;32m----> 8\u001b[1;33m \u001b[0mdraw\u001b[0m\u001b[1;33m(\u001b[0m\u001b[0mx_axis_gradeA\u001b[0m\u001b[1;33m,\u001b[0m \u001b[0my_axis_gradeA\u001b[0m\u001b[1;33m,\u001b[0m \u001b[1;34m'Phổ điểm khối A'\u001b[0m\u001b[1;33m,\u001b[0m \u001b[1;34m'Điểm'\u001b[0m\u001b[1;33m,\u001b[0m \u001b[1;34m'Số lượng'\u001b[0m\u001b[1;33m,\u001b[0m \u001b[1;33m(\u001b[0m\u001b[1;36m10\u001b[0m\u001b[1;33m,\u001b[0m\u001b[1;36m5\u001b[0m\u001b[1;33m)\u001b[0m\u001b[1;33m)\u001b[0m\u001b[1;33m\u001b[0m\u001b[1;33m\u001b[0m\u001b[0m\n\u001b[0m\u001b[0;32m      9\u001b[0m \u001b[0mdraw\u001b[0m\u001b[1;33m(\u001b[0m\u001b[0mx_axis_gradeA\u001b[0m\u001b[1;33m,\u001b[0m \u001b[0my_axis_gradeB\u001b[0m\u001b[1;33m,\u001b[0m \u001b[1;34m'Phổ điểm khối B'\u001b[0m\u001b[1;33m,\u001b[0m \u001b[1;34m'Điểm'\u001b[0m\u001b[1;33m,\u001b[0m \u001b[1;34m'Số lượng'\u001b[0m\u001b[1;33m,\u001b[0m \u001b[1;33m(\u001b[0m\u001b[1;36m10\u001b[0m\u001b[1;33m,\u001b[0m\u001b[1;36m5\u001b[0m\u001b[1;33m)\u001b[0m\u001b[1;33m)\u001b[0m\u001b[1;33m\u001b[0m\u001b[1;33m\u001b[0m\u001b[0m\n\u001b[0;32m     10\u001b[0m \u001b[0mdraw\u001b[0m\u001b[1;33m(\u001b[0m\u001b[0mx_axis_gradeA\u001b[0m\u001b[1;33m,\u001b[0m \u001b[0my_axis_gradeC\u001b[0m\u001b[1;33m,\u001b[0m \u001b[1;34m'Phổ điểm khối C'\u001b[0m\u001b[1;33m,\u001b[0m \u001b[1;34m'Điểm'\u001b[0m\u001b[1;33m,\u001b[0m \u001b[1;34m'Số lượng'\u001b[0m\u001b[1;33m,\u001b[0m \u001b[1;33m(\u001b[0m\u001b[1;36m10\u001b[0m\u001b[1;33m,\u001b[0m\u001b[1;36m5\u001b[0m\u001b[1;33m)\u001b[0m\u001b[1;33m)\u001b[0m\u001b[1;33m\u001b[0m\u001b[1;33m\u001b[0m\u001b[0m\n",
      "\u001b[1;31mNameError\u001b[0m: name 'draw' is not defined"
     ]
    }
   ],
   "source": [
    "x_axis = makeXAxis(0,1,30)\n",
    "y_axis_gradeA = makeYAxis(data['Hà Giang']['KHỐI A'], x_axis)\n",
    "y_axis_gradeB = makeYAxis(data['Hà Giang']['KHỐI B'], x_axis)\n",
    "y_axis_gradeC = makeYAxis(data['Hà Giang']['KHỐI C'], x_axis)\n",
    "y_axis_gradeD = makeYAxis(data['Hà Giang']['KHỐI D'], x_axis)\n",
    "y_axis_gradeA1 = makeYAxis(data['Hà Giang']['KHỐI A1'], x_axis)\n",
    "\n",
    "draw(x_axis_gradeA, y_axis_gradeA, 'Phổ điểm khối A', 'Điểm', 'Số lượng', (10,5))\n",
    "draw(x_axis_gradeA, y_axis_gradeB, 'Phổ điểm khối B', 'Điểm', 'Số lượng', (10,5))\n",
    "draw(x_axis_gradeA, y_axis_gradeC, 'Phổ điểm khối C', 'Điểm', 'Số lượng', (10,5))\n",
    "draw(x_axis_gradeA, y_axis_gradeD, 'Phổ điểm khối D', 'Điểm', 'Số lượng', (10,5))\n",
    "draw(x_axis_gradeA, y_axis_gradeA1, 'Phổ điểm khối A1', 'Điểm', 'Số lượng', (10,5))"
   ]
  },
  {
   "cell_type": "code",
   "execution_count": null,
   "metadata": {},
   "outputs": [],
   "source": []
  },
  {
   "cell_type": "code",
   "execution_count": null,
   "metadata": {},
   "outputs": [],
   "source": []
  }
 ],
 "metadata": {
  "kernelspec": {
   "display_name": "Python 3",
   "language": "python",
   "name": "python3"
  },
  "language_info": {
   "codemirror_mode": {
    "name": "ipython",
    "version": 3
   },
   "file_extension": ".py",
   "mimetype": "text/x-python",
   "name": "python",
   "nbconvert_exporter": "python",
   "pygments_lexer": "ipython3",
   "version": "3.8.5"
  }
 },
 "nbformat": 4,
 "nbformat_minor": 2
}
